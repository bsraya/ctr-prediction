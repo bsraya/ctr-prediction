{
 "cells": [
  {
   "cell_type": "code",
   "execution_count": 1,
   "metadata": {},
   "outputs": [],
   "source": [
    "import torch\n",
    "import pandas as pd\n",
    "import torch.nn as nn\n",
    "from sklearn.preprocessing import Normalizer\n",
    "from sklearn.model_selection import train_test_split\n",
    "from category_encoders import TargetEncoder, CountEncoder"
   ]
  },
  {
   "cell_type": "markdown",
   "metadata": {},
   "source": [
    "# Data Preparation"
   ]
  },
  {
   "cell_type": "code",
   "execution_count": null,
   "metadata": {},
   "outputs": [],
   "source": [
    "df = pd.read_parquet('dataset/train-500k.parquet')\n",
    "df['hour'] = pd.to_datetime(df['hour'], format='%y%m%d%H')\n",
    "df.head()"
   ]
  },
  {
   "cell_type": "code",
   "execution_count": null,
   "metadata": {},
   "outputs": [],
   "source": [
    "columns = [\n",
    "  'site_id', 'site_domain', 'site_category', \n",
    "  'app_id', 'app_domain', 'app_category', \n",
    "  'device_model'\n",
    "]\n",
    "\n",
    "low_cardinality_threshold = 100\n",
    "moderate_cardinality_threshold = 1000"
   ]
  },
  {
   "cell_type": "code",
   "execution_count": null,
   "metadata": {},
   "outputs": [],
   "source": [
    "df_processed = df.copy()\n",
    "df_processed['time_of_day'] = df_processed['hour'].dt.hour\n",
    "\n",
    "for col in columns:\n",
    "  unique_values_count = df[col].nunique()\n",
    "  \n",
    "  if unique_values_count < low_cardinality_threshold:\n",
    "    # Low cardinality: Apply one-hot encoding\n",
    "    df_processed = pd.concat([df_processed, pd.get_dummies(df[col], prefix=col)], axis=1)\n",
    "    df_processed.drop(columns=[col], inplace=True)\n",
    "  elif low_cardinality_threshold <= unique_values_count < moderate_cardinality_threshold:\n",
    "    # Moderate cardinality: Apply frequency encoding\n",
    "    encoder = CountEncoder()\n",
    "    df_processed[col] = encoder.fit_transform(df[col])\n",
    "  else:\n",
    "    # High cardinality: Apply target encoding\n",
    "    encoder = TargetEncoder()\n",
    "    df_processed[col] = encoder.fit_transform(df[col], df['click'])\n",
    "\n",
    "df_processed.head()"
   ]
  },
  {
   "cell_type": "code",
   "execution_count": null,
   "metadata": {},
   "outputs": [],
   "source": [
    "object_columns = df_processed.select_dtypes(include=['object']).columns\n",
    "\n",
    "excluded_columns = ['id', 'click', 'hour'].append(object_columns)\n",
    "feature_columns = df_processed.columns.difference(excluded_columns)"
   ]
  },
  {
   "cell_type": "code",
   "execution_count": null,
   "metadata": {},
   "outputs": [],
   "source": [
    "normalizer = Normalizer()\n",
    "processed_df = normalizer.fit_transform(df_processed[feature_columns])\n",
    "# X_train, X_test, y_train, y_test = train_test_split(processed_df, df['click'], test_size=0.2, random_state=42)"
   ]
  },
  {
   "cell_type": "markdown",
   "metadata": {},
   "source": [
    "# Model Design"
   ]
  },
  {
   "cell_type": "code",
   "execution_count": null,
   "metadata": {},
   "outputs": [],
   "source": [
    "class CNN(nn.Module):\n",
    "  def __init__(self, input_dim, embedding_dim, num_classes):\n",
    "    super(CNN, self).__init__()\n",
    "\n",
    "    self.embedding = nn.Embedding(input_dim, embedding_dim)\n",
    "\n",
    "    self.conv1 = nn.Conv1d(\n",
    "      in_channels=embedding_dim, \n",
    "      out_channels=32, \n",
    "      kernel_size=3\n",
    "    )\n",
    "\n",
    "    self.pool1 = nn.MaxPool1d(kernel_size=2)\n",
    "\n",
    "    self.conv2 = nn.Conv1d(\n",
    "      in_channels=32, \n",
    "      out_channels=64, \n",
    "      kernel_size=3\n",
    "    )\n",
    "\n",
    "    self.pool2 = nn.MaxPool1d(kernel_size=2)\n",
    "\n",
    "    self.flatten = nn.Flatten()\n",
    "\n",
    "    self.fc1 = nn.Linear(in_features=64 * (input_dim // 2), out_features=128)\n",
    "    self.fc2 = nn.Linear(in_features=128, out_features=num_classes)\n",
    "\n",
    "    self.relu = nn.ReLU()\n",
    "\n",
    "  def forward(self, x):\n",
    "    x = self.embedding(x)\n",
    "    x = self.relu(self.pool1(self.conv1(x)))\n",
    "    x = self.relu(self.pool2(self.conv2(x)))\n",
    "\n",
    "    x = self.flatten(x)\n",
    "    x = self.relu(self.fc1(x))\n",
    "    x = self.fc2(x)\n",
    "    return x"
   ]
  }
 ],
 "metadata": {
  "kernelspec": {
   "display_name": "py311",
   "language": "python",
   "name": "python3"
  },
  "language_info": {
   "codemirror_mode": {
    "name": "ipython",
    "version": 3
   },
   "file_extension": ".py",
   "mimetype": "text/x-python",
   "name": "python",
   "nbconvert_exporter": "python",
   "pygments_lexer": "ipython3",
   "version": "3.11.7"
  }
 },
 "nbformat": 4,
 "nbformat_minor": 2
}
